{
    "metadata": {
        "kernelspec": {
            "name": "SQL",
            "display_name": "SQL",
            "language": "sql"
        },
        "language_info": {
            "name": "sql",
            "version": ""
        }
    },
    "nbformat_minor": 2,
    "nbformat": 4,
    "cells": [
        {
            "cell_type": "markdown",
            "source": [
                "# KIHS Database DCL Queries"
            ],
            "metadata": {
                "azdata_cell_guid": "7cc1cb97-669d-4921-a0cf-73d4007a6e7c"
            }
        }
    ]
}