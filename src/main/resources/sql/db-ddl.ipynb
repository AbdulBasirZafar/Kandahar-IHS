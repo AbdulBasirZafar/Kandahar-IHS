{
    "metadata": {
        "kernelspec": {
            "name": "SQL",
            "display_name": "SQL",
            "language": "sql"
        },
        "language_info": {
            "name": "sql",
            "version": ""
        }
    },
    "nbformat_minor": 2,
    "nbformat": 4,
    "cells": [
        {
            "cell_type": "markdown",
            "source": [
                "# KIHS Database DDL Queries"
            ],
            "metadata": {
                "azdata_cell_guid": "687a87b2-e0b1-4aa8-9372-a29088b193ad"
            }
        },
        {
            "cell_type": "code",
            "source": [
                "CREATE DATABASE KHIS\r\n",
                "GO"
            ],
            "metadata": {
                "azdata_cell_guid": "27268dd5-5634-4201-b5c1-d21718a8eda3"
            },
            "outputs": [],
            "execution_count": null
        },
        {
            "cell_type": "code",
            "source": [
                "CREATE SCHEMA HumanResources\r\n",
                "GO"
            ],
            "metadata": {
                "azdata_cell_guid": "8706754e-cd11-419e-b14f-b675c91b8655"
            },
            "outputs": [],
            "execution_count": null
        },
        {
            "cell_type": "code",
            "source": [
                "CREATE SCHEMA Department\r\n",
                "GO"
            ],
            "metadata": {
                "azdata_cell_guid": "d3046f64-f859-4e85-9efb-ff832a6954cd"
            },
            "outputs": [],
            "execution_count": null
        },
        {
            "cell_type": "code",
            "source": [
                "CREATE SCHEMA Score\r\n",
                "GO"
            ],
            "metadata": {
                "azdata_cell_guid": "3022a3fd-4f54-4652-a562-62d137988538"
            },
            "outputs": [],
            "execution_count": null
        },
        {
            "cell_type": "markdown",
            "source": [
                "## Tables"
            ],
            "metadata": {
                "azdata_cell_guid": "63674ca0-e940-43b3-99b5-51499d5b9650"
            }
        },
        {
            "cell_type": "code",
            "source": [
                "CREATE TABLE [HumanResources].[Student](\r\n",
                "    INT ID IDENTITY(1,1) PRIMARY KEY NOT NULL,\r\n",
                "    FullName NVARCHAR(50) NOT NULL,\r\n",
                "    FatherName NVARCHAR(50) NOT NULL,\r\n",
                "    GrandFatherName NVARCHAR(50) NOT NULL,\r\n",
                "    Gender NVARCHAR(50) NOT NULL,\r\n",
                "    DOB INT NOT NULL,\r\n",
                "    POB NVARCHAR NOT NULL,\r\n",
                "    NativeLanguage NVARCHAR(50) NOT NULL,\r\n",
                "    Nationality NVARCHAR(50) NOT NULL,\r\n",
                "    NID INT NOT NULL,\r\n",
                "    Cell NVARCHAR(50) NOT NULL,\r\n",
                "    ParentCell NVARCHAR(50) NOT NULL,\r\n",
                "    Email NVARCHAR(50) NOT NULL,\r\n",
                "    Photo ATTACH NOT NULL\r\n",
                ")"
            ],
            "metadata": {
                "azdata_cell_guid": "3dde536d-3e88-4a97-b118-fa94199a4d49"
            },
            "outputs": [],
            "execution_count": null
        },
        {
            "cell_type": "code",
            "source": [
                "CREATE TABLE [HumanResources].[Staff](\r\n",
                "    INT ID IDENTITY(1,1) PRIMARY KEY NOT NULL, FOREIGN KEY(ID) REFERENCES [HumanResouces].[Address](ID),\r\n",
                "    FullName NVARCHAR(50) NOT NULL,\r\n",
                "    LastName NVARCHAR(50) NOT NULL,\r\n",
                "    Age INT NOT NULL,\r\n",
                "    Gender NVARCHAR(50) NOT NULL,\r\n",
                "    DOB INT NOT NULL,\r\n",
                "    POB NVARCHAR NOT NULL,\r\n",
                "    NativeLanguage NVARCHAR(50) NOT NULL,\r\n",
                "    Nationality NVARCHAR(50) NOT NULL,\r\n",
                "    NID INT NOT NULL,\r\n",
                "    Cell NVARCHAR(50) NOT NULL,\r\n",
                "    HireDate DATE NOT NULL,\r\n",
                "    Photo ATTACH NOT NULL\r\n",
                ")"
            ],
            "metadata": {
                "azdata_cell_guid": "95a41b5c-d64a-4755-8637-f2987bc44c09"
            },
            "outputs": [],
            "execution_count": null
        },
        {
            "cell_type": "code",
            "source": [
                "CREATE TABLE [HumanResources].[Employee](\r\n",
                "    INT ID IDENTITY(1,1) PRIMARY KEY NOT NULL,\r\n",
                "    Email NVARCHAR(50) NOT NULL\r\n",
                ")"
            ],
            "metadata": {
                "azdata_cell_guid": "ba94117f-6c4b-4fbc-8f73-2f617c2082e4"
            },
            "outputs": [],
            "execution_count": null
        },
        {
            "cell_type": "code",
            "source": [
                "CREATE TABLE [HumanResources].[Teacher](\r\n",
                "    INT ID IDENTITY(1,1) PRIMARY KEY NOT NULL, FOREIGN KEY(ID) REFERENCES [Department].[Staff](ID),\r\n",
                "    Email NVARCHAR(50) NOT NULL\r\n",
                ")"
            ],
            "metadata": {
                "azdata_cell_guid": "2f3bbe51-aae4-4b0c-83a2-03a931c69402"
            },
            "outputs": [],
            "execution_count": null
        },
        {
            "cell_type": "code",
            "source": [
                "CREATE TABLE [HumanResources].[Employee](\r\n",
                "    INT ID IDENTITY(1,1) PRIMARY KEY NOT NULL, FOREIGN KEY(ID) REFERENCES [Department].[Staff](ID),\r\n",
                "    Email NVARCHAR(50) NOT NULL\r\n",
                ")"
            ],
            "metadata": {
                "azdata_cell_guid": "07d65871-3535-49ae-bf44-086300b82d27"
            },
            "outputs": [],
            "execution_count": null
        },
        {
            "cell_type": "code",
            "source": [
                "CREATE TABLE [HumanResouces].[Health](\r\n",
                "    INT ID IDENTITY(1,1) PRIMARY KEY NOT NULL, FOREIGN KEY(ID) REFERENCES [HumanResources].[Student](ID),\r\n",
                "    BloodGroup NVARCHAR(50) NOT NULL,\r\n",
                "    HIV BINARY NOT NULL,\r\n",
                "    HepatitisB BINARY NOT NULL,\r\n",
                "    EyeDisease BINARY NOT NULL,\r\n",
                "    SkinDisease BINARY NOT NULL,\r\n",
                "    ENT BINARY NOT NULL,\r\n",
                "    SurgeryDisease BINARY NOT NULL,\r\n",
                "    TB BINARY NOT NULL,\r\n",
                "    InternalDisease BINARY NOT NULL,\r\n",
                "    NeurologicMentalDisease BINARY NOT NULL,\r\n",
                "    Attachment ATTACH NOT NULL\r\n",
                ")"
            ],
            "metadata": {
                "azdata_cell_guid": "8403f1b5-eda8-4a76-b08f-dae561ad9ff1"
            },
            "outputs": [],
            "execution_count": null
        },
        {
            "cell_type": "code",
            "source": [
                "CREATE TABLE [HumanResouces].[Job](\r\n",
                "    INT ID IDENTITY(1,1) PRIMARY KEY NOT NULL,\r\n",
                "    StudentID INT NOT NULL, FOREIGN KEY(StudentID) REFERENCES [HumanResources].[Student](ID),\r\n",
                "    HireDate DATE NOT NULL,\r\n",
                "    Office NVARCHAR(50) NOT NULL,\r\n",
                "    Position NVARCHAR(50) NOT NULL,\r\n",
                "    Province NVARCHAR(50) NOT NULL\r\n",
                ")"
            ],
            "metadata": {
                "azdata_cell_guid": "6547a4f0-2085-4145-b975-634f8db534a1"
            },
            "outputs": [],
            "execution_count": null
        },
        {
            "cell_type": "code",
            "source": [
                "CREATE TABLE [HumanResouces].[SchoolBackground](\r\n",
                "    INT ID IDENTITY(1,1) PRIMARY KEY NOT NULL, FOREIGN KEY(StudentID) REFERENCES [HumanResources].[Student](ID),\r\n",
                "    StudentID INT NOT NULL,\r\n",
                "    SchoolName NVARCHAR(50) NOT NULL,\r\n",
                "    SchoolLocation NVARCHAR(50) NOT NULL,\r\n",
                "    GraduationDate DATE NOT NULL,\r\n",
                "    GraduationCertificate ATTACH NOT NULL\r\n",
                ") "
            ],
            "metadata": {
                "azdata_cell_guid": "b8d3759b-f6e3-4820-94d9-274275a56b6c"
            },
            "outputs": [],
            "execution_count": null
        },
        {
            "cell_type": "code",
            "source": [
                "CREATE TABLE [HumanResouces].[Address](\r\n",
                "    INT ID IDENTITY(1,1) PRIMARY KEY NOT NULL, FOREIGN KEY(ID) REFERENCES [HumanResources].[Student](ID),\r\n",
                "    Province NVARCHAR(50) NOT NULL,\r\n",
                "    District NVARCHAR(50) NOT NULL,\r\n",
                "    StreetNo INT NOT NULL,\r\n",
                "    HouseNo INT NOT NULL\r\n",
                ") "
            ],
            "metadata": {
                "azdata_cell_guid": "8dca320d-d90a-43d1-a1bb-18a78aabe848"
            },
            "outputs": [],
            "execution_count": null
        },
        {
            "cell_type": "code",
            "source": [
                "CREATE TABLE [Department].[Attendance](\r\n",
                "    INT ID IDENTITY(1,1) PRIMARY KEY NOT NULL,\r\n",
                "    StudentID INT NOT NULL, FOREIGN KEY(StudentID) REFERENCES [HumanResources].[Student](ID),\r\n",
                "    DeptCourseID INT NOT NULL, FOREIGN KEY(DeptCourseID) REFERENCES [Department].[DeptCourse](ID),\r\n",
                "    AttendanceDate INT NOT NULL,\r\n",
                "    PresentDays INT NOT NULL,\r\n",
                "    AbsentDays INT NOT NULL\r\n",
                ") "
            ],
            "metadata": {
                "azdata_cell_guid": "45eb8b6b-2759-4a6b-9aae-b65c7988d3b0"
            },
            "outputs": [],
            "execution_count": null
        },
        {
            "cell_type": "code",
            "source": [
                "CREATE TABLE [Department].[Department](\r\n",
                "    INT ID IDENTITY(1,1) PRIMARY KEY NOT NULL,\r\n",
                "    DeptName NVARCHAR(50) NOT NULL\r\n",
                ") "
            ],
            "metadata": {
                "azdata_cell_guid": "c906dfc3-8661-4c7c-a779-011e3e60fe15"
            },
            "outputs": [],
            "execution_count": null
        },
        {
            "cell_type": "code",
            "source": [
                "CREATE TABLE [Department].[EducationalRank](\r\n",
                "    INT ID IDENTITY(1,1) PRIMARY KEY NOT NULL, \r\n",
                "    StaffID ID NOT NULL, FOREIGN KEY(StaffID) REFERENCES [HumanResources].[Staff](ID),\r\n",
                "    RankName NVARCHAR(50) NOT NULL,\r\n",
                "    RankDate DATE NOT NULL\r\n",
                ") "
            ],
            "metadata": {
                "azdata_cell_guid": "2cb71254-98ac-495e-a569-756c7b73040f"
            },
            "outputs": [],
            "execution_count": null
        },
        {
            "cell_type": "code",
            "source": [
                "CREATE TABLE [Department].[Experience](\r\n",
                "    INT ID IDENTITY(1,1) PRIMARY KEY NOT NULL,\r\n",
                "    StaffID ID NOT NULL, FOREIGN KEY(StaffID) REFERENCES [HumanResources].[Staff](ID),\r\n",
                "    OrganizationName NVARCHAR(50) NOT NULL,\r\n",
                "    Location NVARCHAR(50) NOT NULL,\r\n",
                "    StartDate DATE NOT NULL,\r\n",
                "    EndDate DATE NOT NULL,\r\n",
                "    OrganizationEmail NVARCHAR(50) NOT NULL,\r\n",
                "    OrganizationCell NVARCHAR(50) NOT NULL\r\n",
                ")"
            ],
            "metadata": {
                "azdata_cell_guid": "cbd5dcca-4a24-4c55-8b07-dd93a8fb3de7"
            },
            "outputs": [],
            "execution_count": null
        },
        {
            "cell_type": "code",
            "source": [
                "CREATE TABLE [Department].[EducationalBackground](\r\n",
                "    INT ID IDENTITY(1,1) PRIMARY KEY NOT NULL,\r\n",
                "    StaffID ID NOT NULL, FOREIGN KEY(StaffID) REFERENCES [HumanResources].[Staff](ID),\r\n",
                "    Degree NVARCHAR(50) NOT NULL,\r\n",
                "    CampusName NVARCHAR(50) NOT NULL,\r\n",
                "    CampusLocation NVARCHAR(50) NOT NULL,\r\n",
                "    GraduationDate DATE NOT NULL,\r\n",
                "    Attachment ATTACH NOT NULL\r\n",
                ")"
            ],
            "metadata": {
                "azdata_cell_guid": "86f4fcba-681f-455c-a163-dd88d8ca62f3"
            },
            "outputs": [],
            "execution_count": null
        },
        {
            "cell_type": "code",
            "source": [
                "CREATE TABLE [Department].[Course](\r\n",
                "    INT ID IDENTITY(1,1) PRIMARY KEY NOT NULL,\r\n",
                "    CourseName NVARCHAR(50) NOT NULL\r\n",
                ")"
            ],
            "metadata": {
                "azdata_cell_guid": "25ef5d86-1f81-4ec9-91a9-888ea79ba01c"
            },
            "outputs": [],
            "execution_count": null
        },
        {
            "cell_type": "code",
            "source": [
                "CREATE TABLE [Department].[TimeTable](\r\n",
                "    INT ID IDENTITY(1,1) PRIMARY KEY NOT NULL,\r\n",
                "    DeptCourseID INT NOT NULL, FOREIGN KEY(DeptCourseID) REFERENCES [Department].[DeptCourse](ID),\r\n",
                "    TeacherID INT NOT NULL, FOREIGN KEY(TeacherID) REFERENCES [HumanResources].[Teacher](ID),\r\n",
                "    PresentDay NVARCHAR(50) NOT NULL,\r\n",
                "    StartTime TIME NOT NULL,\r\n",
                "    EndTime TIME NOT NULL\r\n",
                ")"
            ],
            "metadata": {
                "azdata_cell_guid": "74615992-9441-4216-9311-54f72b80e2c0"
            },
            "outputs": [],
            "execution_count": null
        },
        {
            "cell_type": "code",
            "source": [
                "CREATE TABLE [Department].[Hostel](\r\n",
                "    INT ID IDENTITY(1,1) PRIMARY KEY NOT NULL,\r\n",
                "    HostelType NVARCHAR(1,1) NOT NULL,\r\n",
                ")"
            ],
            "metadata": {
                "azdata_cell_guid": "41f18381-1601-480e-9eb4-aa946082a7e0"
            },
            "outputs": [],
            "execution_count": null
        },
        {
            "cell_type": "code",
            "source": [
                "CREATE TABLE [Department].[HostelAttendance](\r\n",
                "    INT ID IDENTITY(1,1) PRIMARY KEY NOT NULL,\r\n",
                "    HostelID INT NOT NULL, FOREIGN KEY(HostelID) REFERENCES [Department].[Hostel](ID),\r\n",
                "    RegistrationID INT NOT NULL, FOREIGN KEY(RegistrationID) REFERENCES [Department].[HostelRegistration](ID),\r\n",
                "    AttendanceDate DATE NOT NULL,\r\n",
                "    PresentDays INT NOT NULL,\r\n",
                "    AbsentDays INT NOT NULL,\r\n",
                ")"
            ],
            "metadata": {
                "azdata_cell_guid": "02011b02-6463-4420-afce-62c63948439d"
            },
            "outputs": [],
            "execution_count": null
        },
        {
            "cell_type": "code",
            "source": [
                "CREATE TABLE [Department].[Tools](\r\n",
                "    INT ID IDENTITY(1,1) PRIMARY KEY NOT NULL,\r\n",
                "    Bed NVARCHAR(50) NOT NULL,\r\n",
                "    Cupboard NVARCHAR(50) NOT NULL,\r\n",
                "    Curtains NVARCHAR(50) NOT NULL,\r\n",
                "    Fan NVARCHAR(50) NOT NULL,\r\n",
                "    Heater NVARCHAR(50) NOT NULL,\r\n",
                "    Blanket NVARCHAR(50) NOT NULL,\r\n",
                "    Pillow NVARCHAR(50) NOT NULL,\r\n",
                "    Carpet NVARCHAR(50) NOT NULL,\r\n",
                ")"
            ],
            "metadata": {
                "azdata_cell_guid": "c019b9fd-a1a4-4f46-8711-b0eed0900e61"
            },
            "outputs": [],
            "execution_count": null
        },
        {
            "cell_type": "code",
            "source": [
                "CREATE TABLE [Department].[Room](\r\n",
                "    INT ID IDENTITY(1,1) PRIMARY KEY NOT NULL,\r\n",
                "    HostelID INT NOT NULL, FOREIGN KEY(HostelID) REFERENCES [Department].[Hostel](ID),\r\n",
                "    ToolsID INT NOT NULL, FOREIGN KEY(ToolsID) REFERENCES [Department].[Tools](ID),\r\n",
                "    FloorNo INT NOT NULL\r\n",
                ")"
            ],
            "metadata": {
                "azdata_cell_guid": "836f6c6a-f4c1-42e0-ad7c-9f9f2778ca60"
            },
            "outputs": [],
            "execution_count": null
        },
        {
            "cell_type": "code",
            "source": [
                "CREATE TABLE [Department].[HostelEmployee](\r\n",
                "    INT ID IDENTITY(1,1) PRIMARY KEY NOT NULL, FOREIGN KEY(ID) REFERENCES [HumanResources].[Employee](ID),\r\n",
                "    HostelID INT NOT NULL, FOREIGN KEY (HostelID) REFERENCES [Department].[Hostel](ID),\r\n",
                ")"
            ],
            "metadata": {
                "azdata_cell_guid": "a0c8e9be-27ff-4721-9b2f-0c1f8afd2aa3"
            },
            "outputs": [],
            "execution_count": null
        },
        {
            "cell_type": "code",
            "source": [
                "CREATE TABLE [Department].[DeptCourse](\r\n",
                "    INT ID IDENTITY(1,1) PRIMARY KEY NOT NULL,\r\n",
                "    DepartmentID INT NOT NULL, FOREIGN KEY(DepartmentID) REFERENCES [Department].[Department](ID),\r\n",
                "    CourseID INT NOT NULL, FOREIGN KEY(CourseID) REFERENCES [Department].[Course](ID),\r\n",
                "    SemesterNo INT NOT NULL\r\n",
                ")"
            ],
            "metadata": {
                "azdata_cell_guid": "48fece13-ff67-44eb-9b31-bcbefe6fdfc6"
            },
            "outputs": [],
            "execution_count": null
        },
        {
            "cell_type": "code",
            "source": [
                "CREATE TABLE [Department].[ExamTimeTable](\r\n",
                "    INT ID IDENTITY(1,1) PRIMARY KEY NOT NULL,\r\n",
                "    CourseID INT NOT NULL, FOREIGN KEY(CourseID) REFERENCES [Department].[Course](ID),\r\n",
                "    TeacherID INT NOT NULL, FOREIGN KEY(TeacherID) REFERENCES [HumanResources].[Teacher](ID),\r\n",
                "    ExamDate DATE NOT NULL,\r\n",
                "    ExamTime TIME NOT NULL\r\n",
                ")"
            ],
            "metadata": {
                "azdata_cell_guid": "5dfa5c48-3371-4241-9b2d-ee51bcf0cd92"
            },
            "outputs": [],
            "execution_count": null
        },
        {
            "cell_type": "code",
            "source": [
                "CREATE TABLE [Score].[Score](\r\n",
                "    INT ID IDENTITY(1,1) PRIMARY KEY NOT NULL,\r\n",
                "    StudentID INT NOT NULL, FOREIGN KEY(StudentID) REFERENCES [HumanResouces].[Student](ID),\r\n",
                "    TimeTableID INT NOT NULL, FOREIGN KEY(TimeTableID) REFERENCES [Department].[ExamTimeTable](ID),\r\n",
                "    Chance INT NOT NULL,\r\n",
                ")"
            ],
            "metadata": {
                "azdata_cell_guid": "97c0ec54-7d74-4864-8d26-7cb9269f1b24"
            },
            "outputs": [],
            "execution_count": null
        },
        {
            "cell_type": "code",
            "source": [
                "CREATE TABLE [Score].[ScoreDetails](\r\n",
                "    INT ID IDENTITY(1,1) PRIMARY KEY NOT NULL,\r\n",
                "    ScoreID INT NOT NULL, FOREIGN KEY(ScoreID) REFERENCES [Department].[Score](ID),\r\n",
                "    ScoreType INT NOT NULL,\r\n",
                "    ScorePercentage INT NOT NULL,\r\n",
                "    ExamMarks INT NOT NULL\r\n",
                ")"
            ],
            "metadata": {
                "azdata_cell_guid": "08be53ac-721d-4ab2-b27d-392541756709"
            },
            "outputs": [],
            "execution_count": null
        },
        {
            "cell_type": "code",
            "source": [
                "CREATE TABLE [Department].[HostelRegistration](\r\n",
                "    INT ID IDENTITY(1,1) PRIMARY KEY NOT NULL,\r\n",
                "    HostelID INT NOT NULL, FOREIGN KEY(HostelID) REFERENCES [Department].[Hostel](ID),\r\n",
                "    StudentID INT NOT NULL, FOREIGN KEY(StudentID) REFERENCES [HumanResources].[Student](ID),\r\n",
                "    RegistrationDate INT NOT NULL,\r\n",
                "    RoomID INT NOT NULL\r\n",
                ")"
            ],
            "metadata": {
                "azdata_cell_guid": "9198aea9-89fe-43be-bdf9-49da27cb040a"
            },
            "outputs": [],
            "execution_count": null
        },
        {
            "cell_type": "code",
            "source": [
                "CREATE TABLE [Department].[Clearance](\r\n",
                "    INT ID IDENTITY(1,1) PRIMARY KEY NOT NULL,\r\n",
                "    RegistrationID INT NOT NULL, FOREIGN KEY(RegistrationID) REFERENCES [Department].[HostelRegistration](ID),\r\n",
                "    Checked BINARY NOT NULL\r\n",
                ")"
            ],
            "metadata": {
                "azdata_cell_guid": "6fb91946-4faf-4a7c-b49a-8fc005c433c3"
            },
            "outputs": [],
            "execution_count": null
        },
        {
            "cell_type": "code",
            "source": [
                "CREATE TABLE [Department].[Group](\r\n",
                "    INT ID IDENTITY(1,1) PRIMARY KEY NOT NULL,\r\n",
                "    StudentID INT NOT NULL, FOREIGN KEY(StudentID) REFERENCES [HumanResources].[Student](ID),\r\n",
                "    DeptCourseID INT NOT NULL, FOREIGN KEY(DeptCourseID) REFERENCES [Department].[DeptCourse](ID),\r\n",
                "    GroupName NVARCHAR(50) NOT NULL,\r\n",
                ")"
            ],
            "metadata": {
                "azdata_cell_guid": "3abe69a9-c4f1-4318-a9b7-c53bb40d2e55"
            },
            "outputs": [],
            "execution_count": null
        },
        {
            "cell_type": "code",
            "source": [
                "CREATE TABLE [Department].[NightShift](\r\n",
                "    INT ID IDENTITY(1,1) PRIMARY KEY NOT NULL, FOREIGN KEY(ID) REFERENCES [Department].[Group](ID),\r\n",
                "    TeacherID INT NOT NULL, FOREIGN KEY(TeacherID) REFERENCES [HumanResources].[Teacher](ID),\r\n",
                "    NightShiftDate DATE NOT NULL\r\n",
                ")"
            ],
            "metadata": {
                "azdata_cell_guid": "6c4f8607-d6e8-4139-9bbb-243c9314552c"
            },
            "outputs": [],
            "execution_count": null
        },
        {
            "cell_type": "code",
            "source": [
                "CREATE TABLE [Department].[Coordinator](\r\n",
                "    INT ID IDENTITY(1,1) PRIMARY KEY NOT NULL,\r\n",
                "    TeacherID INT NOT NULL, FOREIGN KEY(TeacherID) REFERENCES [HumanResources].[Teacher](ID),\r\n",
                "    DepartmentID INT NOT NULL, FOREIGN KEY(DepartmentID) REFERENCES [Department].[Department](ID),\r\n",
                "    HireDate DATE NOT NULL\r\n",
                ")"
            ],
            "metadata": {
                "azdata_cell_guid": "8038de03-f28e-4d64-a662-c5d35708ce52"
            },
            "outputs": [],
            "execution_count": null
        },
        {
            "cell_type": "code",
            "source": [
                "CREATE TABLE [Department].[Enrollment](\r\n",
                "    INT ID IDENTITY(1,1) PRIMARY KEY NOT NULL, FOREIGN KEY(ID) REFERENCES [HumanResources].[Student](ID),\r\n",
                "    DepartmentID INT NOT NULL, FOREIGN KEY(DepartmentID) REFERENCES [Department].[Department](ID),\r\n",
                "    EnrollDate DATE NOT NULL\r\n",
                ")"
            ],
            "metadata": {
                "azdata_cell_guid": "693e2214-36e8-41ad-90d6-041c8dc45a53"
            },
            "outputs": [],
            "execution_count": null
        },
        {
            "cell_type": "markdown",
            "source": [
                "## Relationships"
            ],
            "metadata": {
                "azdata_cell_guid": "3ff66b96-0d87-4f9b-a091-7c5cf472edd3"
            }
        }
    ]
}