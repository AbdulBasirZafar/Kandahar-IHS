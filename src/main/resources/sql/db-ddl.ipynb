{
    "metadata": {
        "kernelspec": {
            "name": "SQL",
            "display_name": "SQL",
            "language": "sql"
        },
        "language_info": {
            "name": "sql",
            "version": ""
        }
    },
    "nbformat_minor": 2,
    "nbformat": 4,
    "cells": [
        {
            "cell_type": "markdown",
            "source": [
                "# KIHS Database DDL Queries"
            ],
            "metadata": {
                "azdata_cell_guid": "687a87b2-e0b1-4aa8-9372-a29088b193ad"
            }
        },
        {
            "cell_type": "code",
            "source": [
                "CREATE DATABASE KIHS\r\n",
                "GO"
            ],
            "metadata": {
                "azdata_cell_guid": "27268dd5-5634-4201-b5c1-d21718a8eda3"
            },
            "outputs": [
                {
                    "output_type": "display_data",
                    "data": {
                        "text/html": "Commands completed successfully."
                    },
                    "metadata": {}
                },
                {
                    "output_type": "display_data",
                    "data": {
                        "text/html": "Total execution time: 00:00:00.407"
                    },
                    "metadata": {}
                }
            ],
            "execution_count": 1
        },
        {
            "cell_type": "code",
            "source": [
                "USE KIHS\r\n",
                "GO"
            ],
            "metadata": {
                "azdata_cell_guid": "6502cb20-2f75-49c8-ac34-7c7305773749"
            },
            "outputs": [
                {
                    "output_type": "display_data",
                    "data": {
                        "text/html": "Commands completed successfully."
                    },
                    "metadata": {}
                },
                {
                    "output_type": "display_data",
                    "data": {
                        "text/html": "Total execution time: 00:00:00.216"
                    },
                    "metadata": {}
                }
            ],
            "execution_count": 2
        },
        {
            "cell_type": "code",
            "source": [
                "CREATE SCHEMA HumanResources\r\n",
                "GO"
            ],
            "metadata": {
                "azdata_cell_guid": "8706754e-cd11-419e-b14f-b675c91b8655"
            },
            "outputs": [
                {
                    "output_type": "display_data",
                    "data": {
                        "text/html": "Commands completed successfully."
                    },
                    "metadata": {}
                },
                {
                    "output_type": "display_data",
                    "data": {
                        "text/html": "Total execution time: 00:00:00.016"
                    },
                    "metadata": {}
                }
            ],
            "execution_count": 3
        },
        {
            "cell_type": "code",
            "source": [
                "CREATE SCHEMA Department\r\n",
                "GO"
            ],
            "metadata": {
                "azdata_cell_guid": "d3046f64-f859-4e85-9efb-ff832a6954cd"
            },
            "outputs": [
                {
                    "output_type": "display_data",
                    "data": {
                        "text/html": "Commands completed successfully."
                    },
                    "metadata": {}
                },
                {
                    "output_type": "display_data",
                    "data": {
                        "text/html": "Total execution time: 00:00:00.003"
                    },
                    "metadata": {}
                }
            ],
            "execution_count": 4
        },
        {
            "cell_type": "code",
            "source": [
                "CREATE SCHEMA Score\r\n",
                "GO"
            ],
            "metadata": {
                "azdata_cell_guid": "3022a3fd-4f54-4652-a562-62d137988538"
            },
            "outputs": [
                {
                    "output_type": "display_data",
                    "data": {
                        "text/html": "Commands completed successfully."
                    },
                    "metadata": {}
                },
                {
                    "output_type": "display_data",
                    "data": {
                        "text/html": "Total execution time: 00:00:00.002"
                    },
                    "metadata": {}
                }
            ],
            "execution_count": 5
        },
        {
            "cell_type": "markdown",
            "source": [
                "## Tables"
            ],
            "metadata": {
                "azdata_cell_guid": "63674ca0-e940-43b3-99b5-51499d5b9650"
            }
        },
        {
            "cell_type": "code",
            "source": [
                "CREATE TABLE [HumanResources].[Student](\r\n",
                "    ID INT IDENTITY(1,1) PRIMARY KEY NOT NULL,\r\n",
                "    FullName NVARCHAR(50) NOT NULL,\r\n",
                "    FatherName NVARCHAR(50) NOT NULL,\r\n",
                "    GrandFatherName NVARCHAR(50) NOT NULL,\r\n",
                "    Gender NVARCHAR(50) NOT NULL, CHECK(Gender in ('Male', 'Female', 'Other')),\r\n",
                "    DOB DATE NOT NULL, CHECK(DATEDIFF(YEAR, DOB, GETDATE()) <= 35 AND DATEDIFF(YEAR, DOB, GETDATE()) >= 18),\r\n",
                "    POB NVARCHAR NOT NULL,\r\n",
                "    NativeLanguage NVARCHAR(50) NOT NULL,\r\n",
                "    Nationality NVARCHAR(50) NOT NULL,\r\n",
                "    NID INT NOT NULL,\r\n",
                "    CellPhone NVARCHAR(10) NOT NULL, CHECK(CellPhone LIKE '[0][0-9][0-9][0-9][0-9][0-9][0-9][0-9][0-9][0-9]'),\r\n",
                "    ParentCellphone NVARCHAR(50) NOT NULL, CHECK(CellPhone LIKE '[0][0-9][0-9][0-9][0-9][0-9][0-9][0-9][0-9][0-9]'),\r\n",
                "    Email NVARCHAR(50) NOT NULL, CHECK(Email LIKE '%@%.%'),\r\n",
                "    Photo VARBINARY(MAX) NOT NULL\r\n",
                ")"
            ],
            "metadata": {
                "azdata_cell_guid": "3dde536d-3e88-4a97-b118-fa94199a4d49"
            },
            "outputs": [
                {
                    "output_type": "display_data",
                    "data": {
                        "text/html": "Commands completed successfully."
                    },
                    "metadata": {}
                },
                {
                    "output_type": "display_data",
                    "data": {
                        "text/html": "Total execution time: 00:00:00.022"
                    },
                    "metadata": {}
                }
            ],
            "execution_count": 6
        },
        {
            "cell_type": "code",
            "source": [
                "CREATE TABLE [HumanResources].[Staff](\r\n",
                "    ID INT IDENTITY(1,1) PRIMARY KEY NOT NULL, \r\n",
                "    FullName NVARCHAR(50) NOT NULL,\r\n",
                "    LastName NVARCHAR(50) NOT NULL,\r\n",
                "    Gender NVARCHAR(50) NOT NULL, CHECK(Gender in ('Male', 'Female', 'Other')),\r\n",
                "    DOB DATE NOT NULL, CHECK(DATEDIFF(YEAR, DOB, GETDATE()) >= 18 AND DATEDIFF(YEAR, DOB, GETDATE()) <= 65),\r\n",
                "    POB NVARCHAR NOT NULL,\r\n",
                "    NativeLanguage NVARCHAR(50) NOT NULL,\r\n",
                "    Nationality NVARCHAR(50) NOT NULL,\r\n",
                "    NID INT NOT NULL,\r\n",
                "    CellPhone NVARCHAR(50) NOT NULL, CHECK (CellPhone LIKE '[0][0-9][0-9][0-9][0-9][0-9][0-9][0-9][0-9][0-9]'),\r\n",
                "    HireDate DATE NOT NULL,\r\n",
                "    Photo VARBINARY(MAX) NOT NULL\r\n",
                ")"
            ],
            "metadata": {
                "azdata_cell_guid": "95a41b5c-d64a-4755-8637-f2987bc44c09"
            },
            "outputs": [
                {
                    "output_type": "display_data",
                    "data": {
                        "text/html": "Commands completed successfully."
                    },
                    "metadata": {}
                },
                {
                    "output_type": "display_data",
                    "data": {
                        "text/html": "Total execution time: 00:00:00.042"
                    },
                    "metadata": {}
                }
            ],
            "execution_count": 7
        },
        {
            "cell_type": "code",
            "source": [
                "CREATE TABLE [HumanResources].[Employee](\r\n",
                "    ID INT IDENTITY(1,1) PRIMARY KEY NOT NULL,\r\n",
                "    Email NVARCHAR(50) NOT NULL, CHECK(Email LIKE '%@%.%')\r\n",
                ")"
            ],
            "metadata": {
                "azdata_cell_guid": "ba94117f-6c4b-4fbc-8f73-2f617c2082e4"
            },
            "outputs": [
                {
                    "output_type": "display_data",
                    "data": {
                        "text/html": "Commands completed successfully."
                    },
                    "metadata": {}
                },
                {
                    "output_type": "display_data",
                    "data": {
                        "text/html": "Total execution time: 00:00:00.019"
                    },
                    "metadata": {}
                }
            ],
            "execution_count": 8
        },
        {
            "cell_type": "code",
            "source": [
                "CREATE TABLE [HumanResources].[Teacher](\r\n",
                "    ID INT IDENTITY(1,1) PRIMARY KEY NOT NULL, \r\n",
                "    Email NVARCHAR(50) NOT NULL, CHECK(Email LIKE '%@%.%')\r\n",
                ")"
            ],
            "metadata": {
                "azdata_cell_guid": "2f3bbe51-aae4-4b0c-83a2-03a931c69402"
            },
            "outputs": [
                {
                    "output_type": "display_data",
                    "data": {
                        "text/html": "Commands completed successfully."
                    },
                    "metadata": {}
                },
                {
                    "output_type": "display_data",
                    "data": {
                        "text/html": "Total execution time: 00:00:00.006"
                    },
                    "metadata": {}
                }
            ],
            "execution_count": 9
        },
        {
            "cell_type": "code",
            "source": [
                "CREATE TABLE [HumanResources].[Health](\r\n",
                "    ID INT IDENTITY(1,1) PRIMARY KEY NOT NULL, FOREIGN KEY(ID) REFERENCES [HumanResources].[Student](ID),\r\n",
                "    BloodGroup NVARCHAR(50) NOT NULL, CHECK(BloodGroup IN ('A-', 'A+', 'B-', 'B+', 'AB+', 'AB-', 'O-', 'O+')),\r\n",
                "    HIV BINARY NOT NULL,\r\n",
                "    HepatitisB BINARY NOT NULL,\r\n",
                "    EyeDisease BINARY NOT NULL,\r\n",
                "    SkinDisease BINARY NOT NULL,\r\n",
                "    ENT BINARY NOT NULL,\r\n",
                "    SurgeryDisease BINARY NOT NULL,\r\n",
                "    TB BINARY NOT NULL,\r\n",
                "    InternalDisease BINARY NOT NULL,\r\n",
                "    NeurologicMentalDisease BINARY NOT NULL,\r\n",
                "    Attachment VARBINARY(MAX) NOT NULL\r\n",
                ")"
            ],
            "metadata": {
                "azdata_cell_guid": "8403f1b5-eda8-4a76-b08f-dae561ad9ff1"
            },
            "outputs": [
                {
                    "output_type": "display_data",
                    "data": {
                        "text/html": "Commands completed successfully."
                    },
                    "metadata": {}
                },
                {
                    "output_type": "display_data",
                    "data": {
                        "text/html": "Total execution time: 00:00:00.020"
                    },
                    "metadata": {}
                }
            ],
            "execution_count": 10
        },
        {
            "cell_type": "code",
            "source": [
                "CREATE TABLE [HumanResources].[Job](\r\n",
                "    ID INT IDENTITY(1,1) PRIMARY KEY NOT NULL,\r\n",
                "    StudentID INT NOT NULL, FOREIGN KEY(StudentID) REFERENCES [HumanResources].[Student](ID),\r\n",
                "    HireDate DATE NOT NULL,\r\n",
                "    Office NVARCHAR(50) NOT NULL,\r\n",
                "    Position NVARCHAR(50) NOT NULL,\r\n",
                "    Province NVARCHAR(50) NOT NULL\r\n",
                ")"
            ],
            "metadata": {
                "azdata_cell_guid": "6547a4f0-2085-4145-b975-634f8db534a1"
            },
            "outputs": [
                {
                    "output_type": "display_data",
                    "data": {
                        "text/html": "Commands completed successfully."
                    },
                    "metadata": {}
                },
                {
                    "output_type": "display_data",
                    "data": {
                        "text/html": "Total execution time: 00:00:00.021"
                    },
                    "metadata": {}
                }
            ],
            "execution_count": 11
        },
        {
            "cell_type": "code",
            "source": [
                "CREATE TABLE [HumanResources].[SchoolBackground](\r\n",
                "    ID INT IDENTITY(1,1) PRIMARY KEY NOT NULL, FOREIGN KEY(StudentID) REFERENCES [HumanResources].[Student](ID),\r\n",
                "    StudentID INT NOT NULL,\r\n",
                "    SchoolName NVARCHAR(50) NOT NULL,\r\n",
                "    SchoolLocation NVARCHAR(50) NOT NULL,\r\n",
                "    GraduationDate DATE NOT NULL, CHECK(DATEDIFF(DAY, GraduationDate, GETDATE()) > 0),\r\n",
                "    GraduationCertificate VARBINARY(MAX) NOT NULL,\r\n",
                ") "
            ],
            "metadata": {
                "azdata_cell_guid": "b8d3759b-f6e3-4820-94d9-274275a56b6c"
            },
            "outputs": [
                {
                    "output_type": "display_data",
                    "data": {
                        "text/html": "Commands completed successfully."
                    },
                    "metadata": {}
                },
                {
                    "output_type": "display_data",
                    "data": {
                        "text/html": "Total execution time: 00:00:00.021"
                    },
                    "metadata": {}
                }
            ],
            "execution_count": 12
        },
        {
            "cell_type": "code",
            "source": [
                "CREATE TABLE [HumanResources].[Address](\r\n",
                "    ID INT IDENTITY(1,1) PRIMARY KEY NOT NULL, FOREIGN KEY(ID) REFERENCES [HumanResources].[Student](ID),\r\n",
                "    Province NVARCHAR(50) NOT NULL,\r\n",
                "    District NVARCHAR(50) NOT NULL,\r\n",
                "    StreetNo INT NOT NULL,\r\n",
                "    HouseNo INT NOT NULL\r\n",
                ") "
            ],
            "metadata": {
                "azdata_cell_guid": "8dca320d-d90a-43d1-a1bb-18a78aabe848"
            },
            "outputs": [
                {
                    "output_type": "display_data",
                    "data": {
                        "text/html": "Commands completed successfully."
                    },
                    "metadata": {}
                },
                {
                    "output_type": "display_data",
                    "data": {
                        "text/html": "Total execution time: 00:00:00.014"
                    },
                    "metadata": {}
                }
            ],
            "execution_count": 13
        },
        {
            "cell_type": "code",
            "source": [
                "CREATE TABLE [Department].[Attendance](\r\n",
                "    ID INT IDENTITY(1,1) PRIMARY KEY NOT NULL,\r\n",
                "    StudentID INT NOT NULL, FOREIGN KEY(StudentID) REFERENCES [HumanResources].[Student](ID),\r\n",
                "    DeptCourseID INT NOT NULL,\r\n",
                "    AttendanceDate INT NOT NULL,\r\n",
                "    PresentDays INT NOT NULL,\r\n",
                "    AbsentDays INT NOT NULL,\r\n",
                "    OffDays INT NOT NULL,\r\n",
                "    Leave INT NOT NULL\r\n",
                ") "
            ],
            "metadata": {
                "azdata_cell_guid": "45eb8b6b-2759-4a6b-9aae-b65c7988d3b0"
            },
            "outputs": [
                {
                    "output_type": "display_data",
                    "data": {
                        "text/html": "Commands completed successfully."
                    },
                    "metadata": {}
                },
                {
                    "output_type": "display_data",
                    "data": {
                        "text/html": "Total execution time: 00:00:00.022"
                    },
                    "metadata": {}
                }
            ],
            "execution_count": 14
        },
        {
            "cell_type": "code",
            "source": [
                "CREATE TABLE [Department].[Department](\r\n",
                "    ID INT IDENTITY(1,1) PRIMARY KEY NOT NULL,\r\n",
                "    DeptName NVARCHAR(50) NOT NULL, CHECK(DeptName IN ('Midwifery', 'Pharmacy', 'Nursing', 'Labaratory')),\r\n",
                ") "
            ],
            "metadata": {
                "azdata_cell_guid": "c906dfc3-8661-4c7c-a779-011e3e60fe15"
            },
            "outputs": [
                {
                    "output_type": "display_data",
                    "data": {
                        "text/html": "Commands completed successfully."
                    },
                    "metadata": {}
                },
                {
                    "output_type": "display_data",
                    "data": {
                        "text/html": "Total execution time: 00:00:00.028"
                    },
                    "metadata": {}
                }
            ],
            "execution_count": 15
        },
        {
            "cell_type": "code",
            "source": [
                "CREATE TABLE [Department].[EducationalRank](\r\n",
                "    ID INT IDENTITY(1,1) PRIMARY KEY NOT NULL, \r\n",
                "    StaffID INT NOT NULL, FOREIGN KEY(StaffID) REFERENCES [HumanResources].[Staff](ID),\r\n",
                "    RankName NVARCHAR(50) NOT NULL,\r\n",
                "    RankDate DATE NOT NULL, CHECK(DATEDIFF(DAY, RankDate, GETDATE()) > 0)\r\n",
                ") "
            ],
            "metadata": {
                "azdata_cell_guid": "2cb71254-98ac-495e-a569-756c7b73040f"
            },
            "outputs": [
                {
                    "output_type": "display_data",
                    "data": {
                        "text/html": "Commands completed successfully."
                    },
                    "metadata": {}
                },
                {
                    "output_type": "display_data",
                    "data": {
                        "text/html": "Total execution time: 00:00:00.015"
                    },
                    "metadata": {}
                }
            ],
            "execution_count": 16
        },
        {
            "cell_type": "code",
            "source": [
                "CREATE TABLE [Department].[Experience](\r\n",
                "    ID INT IDENTITY(1,1) PRIMARY KEY NOT NULL,\r\n",
                "    StaffID INT NOT NULL, FOREIGN KEY(StaffID) REFERENCES [HumanResources].[Staff](ID),\r\n",
                "    OrganizationName NVARCHAR(50) NOT NULL,\r\n",
                "    OrganizationLocation NVARCHAR(50) NOT NULL,\r\n",
                "    StartDate DATE NOT NULL,\r\n",
                "    EndDate DATE NOT NULL, CHECK(DATEDIFF(MONTH, StartDate, EndDate) > 0),\r\n",
                "    OrganizationEmail NVARCHAR(50) NOT NULL, CHECK(OrganizationEmail LIKE '%@%.%'),\r\n",
                "    OrganizationCell NVARCHAR(50) NOT NULL, CHECK (OrganizationCell LIKE '[0][0-9][0-9][0-9][0-9][0-9][0-9][0-9][0-9][0-9]'),\r\n",
                ")"
            ],
            "metadata": {
                "azdata_cell_guid": "cbd5dcca-4a24-4c55-8b07-dd93a8fb3de7"
            },
            "outputs": [
                {
                    "output_type": "display_data",
                    "data": {
                        "text/html": "Commands completed successfully."
                    },
                    "metadata": {}
                },
                {
                    "output_type": "display_data",
                    "data": {
                        "text/html": "Total execution time: 00:00:00.032"
                    },
                    "metadata": {}
                }
            ],
            "execution_count": 17
        },
        {
            "cell_type": "code",
            "source": [
                "CREATE TABLE [Department].[EducationalBackground](\r\n",
                "    ID INT IDENTITY(1,1) PRIMARY KEY NOT NULL,\r\n",
                "    StaffID INT NOT NULL, FOREIGN KEY(StaffID) REFERENCES [HumanResources].[Staff](ID),\r\n",
                "    Degree NVARCHAR(50) NOT NULL,\r\n",
                "    CampusName NVARCHAR(50) NOT NULL,\r\n",
                "    CampusLocation NVARCHAR(50) NOT NULL,\r\n",
                "    GraduationDate DATE NOT NULL, CHECK(DATEDIFF(DAY, GraduationDate, GETDATE()) > 0),\r\n",
                "    Attachment VARBINARY(MAX) NOT NULL\r\n",
                ")"
            ],
            "metadata": {
                "azdata_cell_guid": "86f4fcba-681f-455c-a163-dd88d8ca62f3"
            },
            "outputs": [
                {
                    "output_type": "display_data",
                    "data": {
                        "text/html": "Commands completed successfully."
                    },
                    "metadata": {}
                },
                {
                    "output_type": "display_data",
                    "data": {
                        "text/html": "Total execution time: 00:00:00.021"
                    },
                    "metadata": {}
                }
            ],
            "execution_count": 18
        },
        {
            "cell_type": "code",
            "source": [
                "CREATE TABLE [Department].[Course](\r\n",
                "    ID INT IDENTITY(1,1) PRIMARY KEY NOT NULL,\r\n",
                "    CourseName NVARCHAR(50) NOT NULL\r\n",
                ")"
            ],
            "metadata": {
                "azdata_cell_guid": "25ef5d86-1f81-4ec9-91a9-888ea79ba01c"
            },
            "outputs": [
                {
                    "output_type": "display_data",
                    "data": {
                        "text/html": "Commands completed successfully."
                    },
                    "metadata": {}
                },
                {
                    "output_type": "display_data",
                    "data": {
                        "text/html": "Total execution time: 00:00:00.008"
                    },
                    "metadata": {}
                }
            ],
            "execution_count": 19
        },
        {
            "cell_type": "code",
            "source": [
                "CREATE TABLE [Department].[TimeTable](\r\n",
                "    ID INT IDENTITY(1,1) PRIMARY KEY NOT NULL,\r\n",
                "    DeptCourseID INT NOT NULL, \r\n",
                "    TeacherID INT NOT NULL, FOREIGN KEY(TeacherID) REFERENCES [HumanResources].[Teacher](ID),\r\n",
                "    PresentDay NVARCHAR(50) NOT NULL,\r\n",
                "    StartTime TIME NOT NULL,\r\n",
                "    EndTime TIME NOT NULL\r\n",
                ")"
            ],
            "metadata": {
                "azdata_cell_guid": "74615992-9441-4216-9311-54f72b80e2c0"
            },
            "outputs": [
                {
                    "output_type": "display_data",
                    "data": {
                        "text/html": "Commands completed successfully."
                    },
                    "metadata": {}
                },
                {
                    "output_type": "display_data",
                    "data": {
                        "text/html": "Total execution time: 00:00:00.020"
                    },
                    "metadata": {}
                }
            ],
            "execution_count": 20
        },
        {
            "cell_type": "code",
            "source": [
                "CREATE TABLE [Department].[Hostel](\r\n",
                "    ID INT IDENTITY(1,1) PRIMARY KEY NOT NULL,\r\n",
                "    HostelType NVARCHAR(50) NOT NULL, CHECK(HostelType IN ('Male', 'Female'))\r\n",
                ")"
            ],
            "metadata": {
                "azdata_cell_guid": "41f18381-1601-480e-9eb4-aa946082a7e0"
            },
            "outputs": [
                {
                    "output_type": "display_data",
                    "data": {
                        "text/html": "Commands completed successfully."
                    },
                    "metadata": {}
                },
                {
                    "output_type": "display_data",
                    "data": {
                        "text/html": "Total execution time: 00:00:00.015"
                    },
                    "metadata": {}
                }
            ],
            "execution_count": 21
        },
        {
            "cell_type": "code",
            "source": [
                "CREATE TABLE [Department].[HostelAttendance](\r\n",
                "    ID INT IDENTITY(1,1) PRIMARY KEY NOT NULL,\r\n",
                "    HostelID INT NOT NULL, \r\n",
                "    RegistrationID INT NOT NULL, \r\n",
                "    AttendanceDate DATE NOT NULL, CHECK(DATEDIFF(DAY, AttendanceDate, GETDATE()) > 0),\r\n",
                "    TotalDays INT NOT NULL,\r\n",
                "    PresentDays INT NOT NULL,\r\n",
                "    AbsentDays INT NOT NULL,\r\n",
                "    OffDays INT NOT NULL,\r\n",
                "    Leave INT NOT NULL,\r\n",
                "    CHECK(TotalDays = (PresentDays + AbsentDays + OffDays + Leave))\r\n",
                ")"
            ],
            "metadata": {
                "azdata_cell_guid": "02011b02-6463-4420-afce-62c63948439d"
            },
            "outputs": [
                {
                    "output_type": "display_data",
                    "data": {
                        "text/html": "Commands completed successfully."
                    },
                    "metadata": {}
                },
                {
                    "output_type": "display_data",
                    "data": {
                        "text/html": "Total execution time: 00:00:00.394"
                    },
                    "metadata": {}
                }
            ],
            "execution_count": 22
        },
        {
            "cell_type": "code",
            "source": [
                "CREATE TABLE [Department].[Tools](\r\n",
                "    ID INT IDENTITY(1,1) PRIMARY KEY NOT NULL,\r\n",
                "    Bed INT NOT NULL,\r\n",
                "    Cupboard INT NOT NULL,\r\n",
                "    Curtains INT NOT NULL,\r\n",
                "    Fan INT NOT NULL,\r\n",
                "    Heater INT NOT NULL,\r\n",
                "    Blanket INT NOT NULL,\r\n",
                "    Pillow INT NOT NULL,\r\n",
                "    Carpet INT NOT NULL\r\n",
                ")"
            ],
            "metadata": {
                "azdata_cell_guid": "c019b9fd-a1a4-4f46-8711-b0eed0900e61"
            },
            "outputs": [
                {
                    "output_type": "display_data",
                    "data": {
                        "text/html": "Commands completed successfully."
                    },
                    "metadata": {}
                },
                {
                    "output_type": "display_data",
                    "data": {
                        "text/html": "Total execution time: 00:00:00.013"
                    },
                    "metadata": {}
                }
            ],
            "execution_count": 23
        },
        {
            "cell_type": "code",
            "source": [
                "CREATE TABLE [Department].[Room](\r\n",
                "    ID INT IDENTITY(1,1) PRIMARY KEY NOT NULL,\r\n",
                "    HostelID INT NOT NULL, FOREIGN KEY(HostelID) REFERENCES [Department].[Hostel](ID),\r\n",
                "    ToolsID INT NOT NULL, FOREIGN KEY(ToolsID) REFERENCES [Department].[Tools](ID),\r\n",
                "    FloorNo INT NOT NULL\r\n",
                ")"
            ],
            "metadata": {
                "azdata_cell_guid": "836f6c6a-f4c1-42e0-ad7c-9f9f2778ca60"
            },
            "outputs": [
                {
                    "output_type": "display_data",
                    "data": {
                        "text/html": "Commands completed successfully."
                    },
                    "metadata": {}
                },
                {
                    "output_type": "display_data",
                    "data": {
                        "text/html": "Total execution time: 00:00:00.031"
                    },
                    "metadata": {}
                }
            ],
            "execution_count": 24
        },
        {
            "cell_type": "code",
            "source": [
                "CREATE TABLE [Department].[HostelEmployee](\r\n",
                "    ID INT IDENTITY(1,1) PRIMARY KEY NOT NULL, FOREIGN KEY(ID) REFERENCES [HumanResources].[Employee](ID),\r\n",
                "    HostelID INT NOT NULL, FOREIGN KEY (HostelID) REFERENCES [Department].[Hostel](ID),\r\n",
                ")"
            ],
            "metadata": {
                "azdata_cell_guid": "a0c8e9be-27ff-4721-9b2f-0c1f8afd2aa3"
            },
            "outputs": [
                {
                    "output_type": "display_data",
                    "data": {
                        "text/html": "Commands completed successfully."
                    },
                    "metadata": {}
                },
                {
                    "output_type": "display_data",
                    "data": {
                        "text/html": "Total execution time: 00:00:00.004"
                    },
                    "metadata": {}
                }
            ],
            "execution_count": 25
        },
        {
            "cell_type": "code",
            "source": [
                "CREATE TABLE [Department].[DeptCourse](\r\n",
                "    ID INT IDENTITY(1,1) PRIMARY KEY NOT NULL,\r\n",
                "    DepartmentID INT NOT NULL, FOREIGN KEY(DepartmentID) REFERENCES [Department].[Department](ID),\r\n",
                "    CourseID INT NOT NULL, FOREIGN KEY(CourseID) REFERENCES [Department].[Course](ID),\r\n",
                "    SemesterNo INT NOT NULL, CHECK(SemesterNo <= 6)\r\n",
                ")"
            ],
            "metadata": {
                "azdata_cell_guid": "48fece13-ff67-44eb-9b31-bcbefe6fdfc6"
            },
            "outputs": [
                {
                    "output_type": "display_data",
                    "data": {
                        "text/html": "Commands completed successfully."
                    },
                    "metadata": {}
                },
                {
                    "output_type": "display_data",
                    "data": {
                        "text/html": "Total execution time: 00:00:00.017"
                    },
                    "metadata": {}
                }
            ],
            "execution_count": 26
        },
        {
            "cell_type": "code",
            "source": [
                "CREATE TABLE [Department].[ExamTimeTable](\r\n",
                "    ID INT IDENTITY(1,1) PRIMARY KEY NOT NULL,\r\n",
                "    CourseID INT NOT NULL, FOREIGN KEY(CourseID) REFERENCES [Department].[Course](ID),\r\n",
                "    TeacherID INT NOT NULL, FOREIGN KEY(TeacherID) REFERENCES [HumanResources].[Teacher](ID),\r\n",
                "    ExamDate DATE NOT NULL, CHECK(DATEDIFF(DAY, GETDATE(), ExamDate) > 0),\r\n",
                "    ExamTime TIME NOT NULL,\r\n",
                ")"
            ],
            "metadata": {
                "azdata_cell_guid": "5dfa5c48-3371-4241-9b2d-ee51bcf0cd92"
            },
            "outputs": [
                {
                    "output_type": "display_data",
                    "data": {
                        "text/html": "Commands completed successfully."
                    },
                    "metadata": {}
                },
                {
                    "output_type": "display_data",
                    "data": {
                        "text/html": "Total execution time: 00:00:00.016"
                    },
                    "metadata": {}
                }
            ],
            "execution_count": 27
        },
        {
            "cell_type": "code",
            "source": [
                "CREATE TABLE [Score].[Score](\r\n",
                "    ID INT IDENTITY(1,1) PRIMARY KEY NOT NULL,\r\n",
                "    StudentID INT NOT NULL, FOREIGN KEY(StudentID) REFERENCES [HumanResources].[Student](ID),\r\n",
                "    TimeTableID INT NOT NULL, FOREIGN KEY(TimeTableID) REFERENCES [Department].[ExamTimeTable](ID),\r\n",
                "    --Chance Max Count\r\n",
                "    Chance INT NOT NULL, CHECK(Chance <= 2)\r\n",
                ")"
            ],
            "metadata": {
                "azdata_cell_guid": "97c0ec54-7d74-4864-8d26-7cb9269f1b24"
            },
            "outputs": [
                {
                    "output_type": "display_data",
                    "data": {
                        "text/html": "Commands completed successfully."
                    },
                    "metadata": {}
                },
                {
                    "output_type": "display_data",
                    "data": {
                        "text/html": "Total execution time: 00:00:00.067"
                    },
                    "metadata": {}
                }
            ],
            "execution_count": 28
        },
        {
            "cell_type": "code",
            "source": [
                "CREATE TABLE [Score].[ScoreDetails](\r\n",
                "    ID INT IDENTITY(1,1) PRIMARY KEY NOT NULL,\r\n",
                "    ScoreID INT NOT NULL, FOREIGN KEY(ScoreID) REFERENCES [Score].[Score](ID),\r\n",
                "    ScoreType INT NOT NULL,\r\n",
                "    ScorePercentage INT NOT NULL,\r\n",
                "    ExamMarks INT NOT NULL\r\n",
                ")"
            ],
            "metadata": {
                "azdata_cell_guid": "08be53ac-721d-4ab2-b27d-392541756709"
            },
            "outputs": [
                {
                    "output_type": "display_data",
                    "data": {
                        "text/html": "Commands completed successfully."
                    },
                    "metadata": {}
                },
                {
                    "output_type": "display_data",
                    "data": {
                        "text/html": "Total execution time: 00:00:00.019"
                    },
                    "metadata": {}
                }
            ],
            "execution_count": 29
        },
        {
            "cell_type": "code",
            "source": [
                "CREATE TABLE [Department].[HostelRegistration](\r\n",
                "    ID INT IDENTITY(1,1) PRIMARY KEY NOT NULL,\r\n",
                "    HostelID INT NOT NULL, FOREIGN KEY(HostelID) REFERENCES [Department].[Hostel](ID),\r\n",
                "    StudentID INT NOT NULL, FOREIGN KEY(StudentID) REFERENCES [HumanResources].[Student](ID),\r\n",
                "    RegistrationDate INT NOT NULL,\r\n",
                "    RoomID INT NOT NULL\r\n",
                ")"
            ],
            "metadata": {
                "azdata_cell_guid": "9198aea9-89fe-43be-bdf9-49da27cb040a"
            },
            "outputs": [
                {
                    "output_type": "display_data",
                    "data": {
                        "text/html": "Commands completed successfully."
                    },
                    "metadata": {}
                },
                {
                    "output_type": "display_data",
                    "data": {
                        "text/html": "Total execution time: 00:00:00.016"
                    },
                    "metadata": {}
                }
            ],
            "execution_count": 30
        },
        {
            "cell_type": "code",
            "source": [
                "CREATE TABLE [Department].[Clearance](\r\n",
                "    ID INT IDENTITY(1,1) PRIMARY KEY NOT NULL,\r\n",
                "    RegistrationID INT NOT NULL, FOREIGN KEY(RegistrationID) REFERENCES [Department].[HostelRegistration](ID),\r\n",
                "    Checked BINARY NOT NULL\r\n",
                ")"
            ],
            "metadata": {
                "azdata_cell_guid": "6fb91946-4faf-4a7c-b49a-8fc005c433c3"
            },
            "outputs": [
                {
                    "output_type": "display_data",
                    "data": {
                        "text/html": "Commands completed successfully."
                    },
                    "metadata": {}
                },
                {
                    "output_type": "display_data",
                    "data": {
                        "text/html": "Total execution time: 00:00:00.034"
                    },
                    "metadata": {}
                }
            ],
            "execution_count": 31
        },
        {
            "cell_type": "code",
            "source": [
                "CREATE TABLE [Department].[Group](\r\n",
                "    ID INT IDENTITY(1,1) PRIMARY KEY NOT NULL,\r\n",
                "    StudentID INT NOT NULL, FOREIGN KEY(StudentID) REFERENCES [HumanResources].[Student](ID),\r\n",
                "    DeptCourseID INT NOT NULL, FOREIGN KEY(DeptCourseID) REFERENCES [Department].[DeptCourse](ID),\r\n",
                "    GroupName NVARCHAR(50) NOT NULL\r\n",
                ")"
            ],
            "metadata": {
                "azdata_cell_guid": "3abe69a9-c4f1-4318-a9b7-c53bb40d2e55"
            },
            "outputs": [
                {
                    "output_type": "display_data",
                    "data": {
                        "text/html": "Commands completed successfully."
                    },
                    "metadata": {}
                },
                {
                    "output_type": "display_data",
                    "data": {
                        "text/html": "Total execution time: 00:00:00.019"
                    },
                    "metadata": {}
                }
            ],
            "execution_count": 32
        },
        {
            "cell_type": "code",
            "source": [
                "CREATE TABLE [Department].[NightShift](\r\n",
                "    ID INT IDENTITY(1,1) PRIMARY KEY NOT NULL, FOREIGN KEY(ID) REFERENCES [Department].[Group](ID),\r\n",
                "    TeacherID INT NOT NULL, FOREIGN KEY(TeacherID) REFERENCES [HumanResources].[Teacher](ID),\r\n",
                "    NightShiftDate DATE NOT NULL\r\n",
                ")"
            ],
            "metadata": {
                "azdata_cell_guid": "6c4f8607-d6e8-4139-9bbb-243c9314552c"
            },
            "outputs": [
                {
                    "output_type": "display_data",
                    "data": {
                        "text/html": "Commands completed successfully."
                    },
                    "metadata": {}
                },
                {
                    "output_type": "display_data",
                    "data": {
                        "text/html": "Total execution time: 00:00:00.014"
                    },
                    "metadata": {}
                }
            ],
            "execution_count": 33
        },
        {
            "cell_type": "code",
            "source": [
                "CREATE TABLE [Department].[Coordinator](\r\n",
                "    ID INT IDENTITY(1,1) PRIMARY KEY NOT NULL,\r\n",
                "    TeacherID INT NOT NULL, FOREIGN KEY(TeacherID) REFERENCES [HumanResources].[Teacher](ID),\r\n",
                "    DepartmentID INT NOT NULL, FOREIGN KEY(DepartmentID) REFERENCES [Department].[Department](ID),\r\n",
                "    HireDate DATE NOT NULL\r\n",
                ")"
            ],
            "metadata": {
                "azdata_cell_guid": "8038de03-f28e-4d64-a662-c5d35708ce52"
            },
            "outputs": [
                {
                    "output_type": "display_data",
                    "data": {
                        "text/html": "Commands completed successfully."
                    },
                    "metadata": {}
                },
                {
                    "output_type": "display_data",
                    "data": {
                        "text/html": "Total execution time: 00:00:00.029"
                    },
                    "metadata": {}
                }
            ],
            "execution_count": 34
        },
        {
            "cell_type": "code",
            "source": [
                "CREATE TABLE [Department].[Enrollment](\r\n",
                "    ID INT IDENTITY(1,1) PRIMARY KEY NOT NULL, FOREIGN KEY(ID) REFERENCES [HumanResources].[Student](ID),\r\n",
                "    DepartmentID INT NOT NULL, FOREIGN KEY(DepartmentID) REFERENCES [Department].[Department](ID),\r\n",
                "    EnrollDate DATE NOT NULL\r\n",
                ")"
            ],
            "metadata": {
                "azdata_cell_guid": "693e2214-36e8-41ad-90d6-041c8dc45a53"
            },
            "outputs": [
                {
                    "output_type": "display_data",
                    "data": {
                        "text/html": "Commands completed successfully."
                    },
                    "metadata": {}
                },
                {
                    "output_type": "display_data",
                    "data": {
                        "text/html": "Total execution time: 00:00:00.023"
                    },
                    "metadata": {}
                }
            ],
            "execution_count": 35
        },
        {
            "cell_type": "markdown",
            "source": [
                "## Relationships"
            ],
            "metadata": {
                "azdata_cell_guid": "3ff66b96-0d87-4f9b-a091-7c5cf472edd3"
            }
        },
        {
            "cell_type": "code",
            "source": [
                "ALTER TABLE [HumanResources].[Staff] ADD\r\n",
                "CONSTRAINT FK_Staff_Address \r\n",
                "FOREIGN KEY (ID)\r\n",
                "REFERENCES [HumanResources].[Address](ID)"
            ],
            "metadata": {
                "azdata_cell_guid": "b1889192-b075-4bd3-a384-6241cea26b4f"
            },
            "outputs": [
                {
                    "output_type": "display_data",
                    "data": {
                        "text/html": "Commands completed successfully."
                    },
                    "metadata": {}
                },
                {
                    "output_type": "display_data",
                    "data": {
                        "text/html": "Total execution time: 00:00:00.024"
                    },
                    "metadata": {}
                }
            ],
            "execution_count": 36
        },
        {
            "cell_type": "code",
            "source": [
                "ALTER TABLE [HumanResources].[Staff] ADD\r\n",
                "CONSTRAINT FK_Teacher_Staff\r\n",
                "FOREIGN KEY (ID)\r\n",
                "REFERENCES [HumanResources].[Teacher](ID)"
            ],
            "metadata": {
                "azdata_cell_guid": "21393cbe-d585-4af4-9af2-74058786780e"
            },
            "outputs": [
                {
                    "output_type": "display_data",
                    "data": {
                        "text/html": "Commands completed successfully."
                    },
                    "metadata": {}
                },
                {
                    "output_type": "display_data",
                    "data": {
                        "text/html": "Total execution time: 00:00:00.013"
                    },
                    "metadata": {}
                }
            ],
            "execution_count": 37
        },
        {
            "cell_type": "code",
            "source": [
                "ALTER TABLE [HumanResources].[Staff] ADD\r\n",
                "CONSTRAINT FK_Employee_Staff\r\n",
                "FOREIGN KEY (ID)\r\n",
                "REFERENCES [HumanResources].[Employee](ID)"
            ],
            "metadata": {
                "azdata_cell_guid": "fe983ceb-797b-4f7a-899f-32e25a8a249c"
            },
            "outputs": [
                {
                    "output_type": "display_data",
                    "data": {
                        "text/html": "Commands completed successfully."
                    },
                    "metadata": {}
                },
                {
                    "output_type": "display_data",
                    "data": {
                        "text/html": "Total execution time: 00:00:00.017"
                    },
                    "metadata": {}
                }
            ],
            "execution_count": 38
        },
        {
            "cell_type": "code",
            "source": [
                "ALTER TABLE [Department].[DeptCourse] ADD\r\n",
                "CONSTRAINT FK_Attendance_DeptCourse\r\n",
                "FOREIGN KEY (ID)\r\n",
                "REFERENCES [Department].[Attendance](ID)"
            ],
            "metadata": {
                "azdata_cell_guid": "48f4f2cb-e133-4463-ad34-32eca95477ca"
            },
            "outputs": [
                {
                    "output_type": "display_data",
                    "data": {
                        "text/html": "Commands completed successfully."
                    },
                    "metadata": {}
                },
                {
                    "output_type": "display_data",
                    "data": {
                        "text/html": "Total execution time: 00:00:00.014"
                    },
                    "metadata": {}
                }
            ],
            "execution_count": 39
        },
        {
            "cell_type": "code",
            "source": [
                "ALTER TABLE [Department].[TimeTable] ADD\r\n",
                "CONSTRAINT FK_TimeTable_DeptCourse\r\n",
                "FOREIGN KEY (ID)\r\n",
                "REFERENCES [Department].[DeptCourse](ID)"
            ],
            "metadata": {
                "azdata_cell_guid": "69c79d47-db07-440d-98c6-a2f8be98d778"
            },
            "outputs": [
                {
                    "output_type": "display_data",
                    "data": {
                        "text/html": "Commands completed successfully."
                    },
                    "metadata": {}
                },
                {
                    "output_type": "display_data",
                    "data": {
                        "text/html": "Total execution time: 00:00:00.011"
                    },
                    "metadata": {}
                }
            ],
            "execution_count": 40
        },
        {
            "cell_type": "code",
            "source": [
                "ALTER TABLE [Department].[HostelAttendance] ADD\r\n",
                "CONSTRAINT FK_HostelAttendance_Hostel\r\n",
                "FOREIGN KEY (ID)\r\n",
                "REFERENCES [Department].[Hostel](ID)"
            ],
            "metadata": {
                "azdata_cell_guid": "827e1dfc-4192-4e46-a74f-41bbbfb09de6"
            },
            "outputs": [
                {
                    "output_type": "display_data",
                    "data": {
                        "text/html": "Commands completed successfully."
                    },
                    "metadata": {}
                },
                {
                    "output_type": "display_data",
                    "data": {
                        "text/html": "Total execution time: 00:00:00.013"
                    },
                    "metadata": {}
                }
            ],
            "execution_count": 41
        },
        {
            "cell_type": "code",
            "source": [
                "ALTER TABLE [Department].[HostelAttendance] ADD\r\n",
                "CONSTRAINT FK_HostelAttendance_HostelRegistration\r\n",
                "FOREIGN KEY (ID)\r\n",
                "REFERENCES [Department].[HostelRegistration](ID)"
            ],
            "metadata": {
                "azdata_cell_guid": "5313d360-a740-46ff-8aa8-73c4117d12fc"
            },
            "outputs": [
                {
                    "output_type": "display_data",
                    "data": {
                        "text/html": "Commands completed successfully."
                    },
                    "metadata": {}
                },
                {
                    "output_type": "display_data",
                    "data": {
                        "text/html": "Total execution time: 00:00:00.015"
                    },
                    "metadata": {}
                }
            ],
            "execution_count": 42
        }
    ]
}