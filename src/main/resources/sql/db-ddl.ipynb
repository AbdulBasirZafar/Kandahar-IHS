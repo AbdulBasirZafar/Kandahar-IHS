{
    "metadata": {
        "kernelspec": {
            "name": "SQL",
            "display_name": "SQL",
            "language": "sql"
        },
        "language_info": {
            "name": "sql",
            "version": ""
        }
    },
    "nbformat_minor": 2,
    "nbformat": 4,
    "cells": [
        {
            "cell_type": "markdown",
            "source": [
                "# KIHS Database DDL Queries"
            ],
            "metadata": {
                "azdata_cell_guid": "687a87b2-e0b1-4aa8-9372-a29088b193ad"
            }
        },
        {
            "cell_type": "code",
            "source": [
                "CREATE DATABASE KHIS\r\n",
                "GO"
            ],
            "metadata": {
                "azdata_cell_guid": "27268dd5-5634-4201-b5c1-d21718a8eda3"
            },
            "outputs": [],
            "execution_count": null
        },
        {
            "cell_type": "code",
            "source": [
                "CREATE SCHEMA HumanResources\r\n",
                "GO"
            ],
            "metadata": {
                "azdata_cell_guid": "8706754e-cd11-419e-b14f-b675c91b8655"
            },
            "outputs": [],
            "execution_count": null
        },
        {
            "cell_type": "code",
            "source": [
                "CREATE SCHEMA Department\r\n",
                "GO"
            ],
            "metadata": {
                "azdata_cell_guid": "d3046f64-f859-4e85-9efb-ff832a6954cd"
            },
            "outputs": [],
            "execution_count": null
        },
        {
            "cell_type": "code",
            "source": [
                "CREATE SCHEMA Score\r\n",
                "GO"
            ],
            "metadata": {
                "azdata_cell_guid": "3022a3fd-4f54-4652-a562-62d137988538"
            },
            "outputs": [],
            "execution_count": null
        },
        {
            "cell_type": "markdown",
            "source": [
                "## Tables"
            ],
            "metadata": {
                "azdata_cell_guid": "63674ca0-e940-43b3-99b5-51499d5b9650"
            }
        },
        {
            "cell_type": "code",
            "source": [
                "CREATE TABLE [HumanResources].[Student](\r\n",
                "    INT ID IDENTITY(1,1) PRIMARY KEY NOT NULL,\r\n",
                "    FullName NVARCHAR(50) NOT NULL,\r\n",
                "    FatherName NVARCHAR(50) NOT NULL,\r\n",
                "    GrandFatherName NVARCHAR(50) NOT NULL,\r\n",
                "    Gender NVARCHAR(50) NOT NULL,\r\n",
                "    DOB INT NOT NULL,\r\n",
                "    POB NVARCHAR NOT NULL,\r\n",
                "    NativeLanguage NVARCHAR(50) NOT NULL,\r\n",
                "    Nationality NVARCHAR(50) NOT NULL,\r\n",
                "    NID INT NOT NULL,\r\n",
                "    Cell NVARCHAR(50) NOT NULL,\r\n",
                "    ParentCell NVARCHAR(50) NOT NULL,\r\n",
                "    Email NVARCHAR(50) NOT NULL,\r\n",
                "    Photo ATTACH NOT NULL\r\n",
                ")"
            ],
            "metadata": {
                "azdata_cell_guid": "3dde536d-3e88-4a97-b118-fa94199a4d49"
            },
            "outputs": [],
            "execution_count": null
        },
        {
            "cell_type": "code",
            "source": [
                "CREATE TABLE [HumanResources].[Staff](\r\n",
                "    INT ID IDENTITY(1,1) PRIMARY KEY NOT NULL,\r\n",
                "    FullName NVARCHAR(50) NOT NULL,\r\n",
                "    LastName NVARCHAR(50) NOT NULL,\r\n",
                "    Age INT NOT NULL,\r\n",
                "    Gender NVARCHAR(50) NOT NULL,\r\n",
                "    DOB INT NOT NULL,\r\n",
                "    POB NVARCHAR NOT NULL,\r\n",
                "    NativeLanguage NVARCHAR(50) NOT NULL,\r\n",
                "    Nationality NVARCHAR(50) NOT NULL,\r\n",
                "    NID INT NOT NULL,\r\n",
                "    Cell NVARCHAR(50) NOT NULL,\r\n",
                "    HireDate DATE NOT NULL,\r\n",
                "    Photo ATTACH NOT NULL\r\n",
                ")"
            ],
            "metadata": {
                "azdata_cell_guid": "95a41b5c-d64a-4755-8637-f2987bc44c09"
            },
            "outputs": [],
            "execution_count": null
        },
        {
            "cell_type": "code",
            "source": [
                "CREATE TABLE [HumanResources].[Employee](\r\n",
                "    INT ID IDENTITY(1,1) PRIMARY KEY NOT NULL,\r\n",
                "    Email NVARCHAR(50) NOT NULL\r\n",
                ")"
            ],
            "metadata": {
                "azdata_cell_guid": "ba94117f-6c4b-4fbc-8f73-2f617c2082e4"
            },
            "outputs": [],
            "execution_count": null
        },
        {
            "cell_type": "code",
            "source": [
                "CREATE TABLE [HumanResources].[Teacher](\r\n",
                "    INT ID IDENTITY(1,1) PRIMARY KEY NOT NULL,\r\n",
                "    Email NVARCHAR(50) NOT NULL\r\n",
                ")"
            ],
            "metadata": {
                "azdata_cell_guid": "2f3bbe51-aae4-4b0c-83a2-03a931c69402"
            },
            "outputs": [],
            "execution_count": null
        },
        {
            "cell_type": "code",
            "source": [
                "CREATE TABLE [HumanResources].[Employee](\r\n",
                "    INT ID IDENTITY(1,1) PRIMARY KEY NOT NULL,\r\n",
                "    Email NVARCHAR(50) NOT NULL\r\n",
                ")"
            ],
            "metadata": {
                "azdata_cell_guid": "07d65871-3535-49ae-bf44-086300b82d27"
            },
            "outputs": [],
            "execution_count": null
        },
        {
            "cell_type": "code",
            "source": [
                "CREATE TABLE [HumanResouces].[Health](\r\n",
                "    INT ID IDENTITY(1,1) PRIMARY KEY NOT NULL,\r\n",
                "    BloodGroup NVARCHAR(50) NOT NULL,\r\n",
                "    HIV BINARY NOT NULL,\r\n",
                "    HepatitisB BINARY NOT NULL,\r\n",
                "    EyeDisease BINARY NOT NULL,\r\n",
                "    SkinDisease BINARY NOT NULL,\r\n",
                "    ENT BINARY NOT NULL,\r\n",
                "    SurgeryDisease BINARY NOT NULL,\r\n",
                "    TB BINARY NOT NULL,\r\n",
                "    InternalDisease BINARY NOT NULL,\r\n",
                "    NeurologicMentalDisease BINARY NOT NULL,\r\n",
                "    Attachment ATTACH NOT NULL\r\n",
                ")"
            ],
            "metadata": {
                "azdata_cell_guid": "8403f1b5-eda8-4a76-b08f-dae561ad9ff1"
            },
            "outputs": [],
            "execution_count": null
        },
        {
            "cell_type": "code",
            "source": [
                "CREATE TABLE [HumanResouces].[Job](\r\n",
                "    INT ID IDENTITY(1,1) PRIMARY KEY NOT NULL,\r\n",
                "    StudentID INT NOT NULL,\r\n",
                "    HireDate DATE NOT NULL,\r\n",
                "    Office NVARCHAR(50) NOT NULL,\r\n",
                "    Position NVARCHAR(50) NOT NULL,\r\n",
                "    Province NVARCHAR(50) NOT NULL\r\n",
                ")"
            ],
            "metadata": {
                "azdata_cell_guid": "6547a4f0-2085-4145-b975-634f8db534a1"
            },
            "outputs": [],
            "execution_count": null
        },
        {
            "cell_type": "code",
            "source": [
                "CREATE TABLE [HumanResouces].[SchoolBackground](\r\n",
                "    INT ID IDENTITY(1,1) PRIMARY KEY NOT NULL,\r\n",
                "    StudentID INT NOT NULL,\r\n",
                "    SchoolName NVARCHAR(50) NOT NULL,\r\n",
                "    SchoolLocation NVARCHAR(50) NOT NULL,\r\n",
                "    GraduationDate DATE NOT NULL,\r\n",
                "    GraduationCertificate ATTACH NOT NULL\r\n",
                ") "
            ],
            "metadata": {
                "azdata_cell_guid": "b8d3759b-f6e3-4820-94d9-274275a56b6c"
            },
            "outputs": [],
            "execution_count": null
        },
        {
            "cell_type": "code",
            "source": [
                "CREATE TABLE [HumanResouces].[Address](\r\n",
                "    INT ID IDENTITY(1,1) PRIMARY KEY NOT NULL,\r\n",
                "    Province NVARCHAR(50) NOT NULL,\r\n",
                "    District NVARCHAR(50) NOT NULL,\r\n",
                "    StreetNo INT NOT NULL,\r\n",
                "    HouseNo INT NOT NULL\r\n",
                ") "
            ],
            "metadata": {
                "azdata_cell_guid": "8dca320d-d90a-43d1-a1bb-18a78aabe848"
            },
            "outputs": [],
            "execution_count": null
        },
        {
            "cell_type": "code",
            "source": [
                "CREATE TABLE [Department].[Attendance](\r\n",
                "    INT ID IDENTITY(1,1) PRIMARY KEY NOT NULL,\r\n",
                "    StudentID INT NOT NULL,\r\n",
                "    DeptCourse INT NOT NULL,\r\n",
                "    AttendanceDate INT NOT NULL,\r\n",
                "    PresentDays INT NOT NULL,\r\n",
                "    AbsentDays INT NOT NULL\r\n",
                ") "
            ],
            "metadata": {
                "azdata_cell_guid": "45eb8b6b-2759-4a6b-9aae-b65c7988d3b0"
            },
            "outputs": [],
            "execution_count": null
        },
        {
            "cell_type": "code",
            "source": [
                "CREATE TABLE [Department].[Department](\r\n",
                "    INT ID IDENTITY(1,1) PRIMARY KEY NOT NULL,\r\n",
                "    DeptName NVARCHAR(50) NOT NULL\r\n",
                ") "
            ],
            "metadata": {
                "azdata_cell_guid": "c906dfc3-8661-4c7c-a779-011e3e60fe15"
            },
            "outputs": [],
            "execution_count": null
        },
        {
            "cell_type": "code",
            "source": [
                "CREATE TABLE [Department].[EducationalRank](\r\n",
                "    INT ID IDENTITY(1,1) PRIMARY KEY NOT NULL,\r\n",
                "    StaffID ID NOT NULL,\r\n",
                "    RankName NVARCHAR(50) NOT NULL,\r\n",
                "    RankDate DATE NOT NULL\r\n",
                ") "
            ],
            "metadata": {
                "azdata_cell_guid": "2cb71254-98ac-495e-a569-756c7b73040f"
            },
            "outputs": [],
            "execution_count": null
        },
        {
            "cell_type": "code",
            "source": [
                "CREATE TABLE [Department].[Experience](\r\n",
                "    INT ID IDENTITY(1,1) PRIMARY KEY NOT NULL,\r\n",
                "    StaffID ID NOT NULL,\r\n",
                "    OrganizationName NVARCHAR(50) NOT NULL,\r\n",
                "    Location NVARCHAR(50) NOT NULL,\r\n",
                "    StartDate DATE NOT NULL,\r\n",
                "    EndDate DATE NOT NULL,\r\n",
                "    OrganizationEmail NVARCHAR(50) NOT NULL,\r\n",
                "    OrganizationCell NVARCHAR(50) NOT NULL\r\n",
                ")"
            ],
            "metadata": {
                "azdata_cell_guid": "cbd5dcca-4a24-4c55-8b07-dd93a8fb3de7"
            },
            "outputs": [],
            "execution_count": null
        },
        {
            "cell_type": "code",
            "source": [
                "CREATE TABLE [Department].[EducationalBackground](\r\n",
                "    INT ID IDENTITY(1,1) PRIMARY KEY NOT NULL,\r\n",
                "    StaffID ID NOT NULL,\r\n",
                "    Degree NVARCHAR(50) NOT NULL,\r\n",
                "    CampusName NVARCHAR(50) NOT NULL,\r\n",
                "    CampusLocation NVARCHAR(50) NOT NULL,\r\n",
                "    GraduationDate DATE NOT NULL,\r\n",
                "    Attachment ATTACH NOT NULL\r\n",
                ")"
            ],
            "metadata": {
                "azdata_cell_guid": "86f4fcba-681f-455c-a163-dd88d8ca62f3"
            },
            "outputs": [],
            "execution_count": null
        },
        {
            "cell_type": "code",
            "source": [
                "CREATE TABLE [Department].[Course](\r\n",
                "    INT ID IDENTITY(1,1) PRIMARY KEY NOT NULL,\r\n",
                "    CourseName NVARCHAR(50) NOT NULL\r\n",
                ")"
            ],
            "metadata": {
                "azdata_cell_guid": "25ef5d86-1f81-4ec9-91a9-888ea79ba01c"
            },
            "outputs": [],
            "execution_count": null
        },
        {
            "cell_type": "code",
            "source": [
                "CREATE TABLE [Department].[TimeTable](\r\n",
                "    INT ID IDENTITY(1,1) PRIMARY KEY NOT NULL,\r\n",
                "    DeptCourseID INT NOT NULL,\r\n",
                "    TeacherID INT NOT NULL,\r\n",
                "    PresentDay NVARCHAR(50) NOT NULL,\r\n",
                "    StartTime TIME NOT NULL,\r\n",
                "    EndTime TIME NOT NULL\r\n",
                ")"
            ],
            "metadata": {
                "azdata_cell_guid": "74615992-9441-4216-9311-54f72b80e2c0"
            },
            "outputs": [],
            "execution_count": null
        },
        {
            "cell_type": "code",
            "source": [
                "CREATE TABLE [Department].[Hostel](\r\n",
                "    INT ID IDENTITY(1,1) PRIMARY KEY NOT NULL,\r\n",
                "    HostelType NVARCHAR(1,1) NOT NULL,\r\n",
                ")"
            ],
            "metadata": {
                "azdata_cell_guid": "587de038-d41d-4ed5-97bd-64c06c849db5"
            },
            "outputs": [],
            "execution_count": null
        },
        {
            "cell_type": "code",
            "source": [
                "CREATE TABLE [Department].[Hostel](\r\n",
                "    INT ID IDENTITY(1,1) PRIMARY KEY NOT NULL,\r\n",
                "    HostelType NVARCHAR(1,1) NOT NULL,\r\n",
                ")"
            ],
            "metadata": {
                "azdata_cell_guid": "41f18381-1601-480e-9eb4-aa946082a7e0"
            },
            "outputs": [],
            "execution_count": null
        }
    ]
}