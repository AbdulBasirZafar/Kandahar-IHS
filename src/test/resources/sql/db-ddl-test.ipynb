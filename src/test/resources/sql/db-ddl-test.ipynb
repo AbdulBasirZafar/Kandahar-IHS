{
    "metadata": {
        "kernelspec": {
            "name": "SQL",
            "display_name": "SQL",
            "language": "sql"
        },
        "language_info": {
            "name": "sql",
            "version": ""
        }
    },
    "nbformat_minor": 2,
    "nbformat": 4,
    "cells": [
        {
            "cell_type": "markdown",
            "source": [
                "# Database ddl queries test"
            ],
            "metadata": {
                "azdata_cell_guid": "a54aac03-9fac-47d3-b966-4e040056bcba"
            }
        },
        {
            "cell_type": "code",
            "source": [
                "--INSERT QUERIES FOR [Department].[Hostel] TABLE\r\n",
                "INSERT INTO [Department].[Hostel] (HostelType)\r\n",
                "VALUES ('Male');\r\n",
                "INSERT INTO [Department].[Hostel] (HostelType)\r\n",
                "VALUES ('Female');\r\n",
                "-- INSERT QUERIES FOR [Department].[Hostel] TABLE TO CHECK ALL CONSTRIANTS WORK CORRECTLY\r\n",
                "INSERT INTO [Department].[Hostel] (HostelType)\r\n",
                "VALUES ('MF12');\r\n",
                "-- SELECT ALL RECOREDS FROM [Department].[Hostel]\r\n",
                "SELECT * FROM [Department].[Hostel];"
            ],
            "metadata": {
                "azdata_cell_guid": "42b0ecaf-9779-4f1e-b769-39564c246cb7"
            },
            "outputs": [],
            "execution_count": null
        },
        {
            "cell_type": "code",
            "source": [
                "-- INSERT QUERIES FOR [Department].[Tools] TABLE \r\n",
                "INSERT INTO [Department].[Tools] (Bed, Cupboard,  Curtains, Fan, Heater, Blanket, Pillow, Carpet)\r\n",
                "VALUES \r\n",
                "(4, 5, 6,5, 3, 2, 4, 6),\r\n",
                "(42, 45, 56,85, 37, 62, 5, 23),\r\n",
                "(4, 52, 46, 35, 31, 22, 4, 236),\r\n",
                "(42, 45, 56,85, 37, 62, 5, 23),\r\n",
                "(23, 53, 333,533, 333, 23, 43, 63),\r\n",
                "(12, 45, 56,85, 37, 62, 53, 23),\r\n",
                "(56, 52, 46, 35, 31, 22, 4, 236),\r\n",
                "(718, 213, 526,435, 33, 632, 52, 33),\r\n",
                "(8, 23, 46,45, 33, 2, 2, 3),\r\n",
                "(4, 533, 633,353, 33, 23, 43, 6),\r\n",
                "(42, 45, 56,85, 37, 62, 5, 23),\r\n",
                "(4, 52, 46, 35, 31, 22, 4, 236),\r\n",
                "(42, 45, 56,85, 37, 62, 5, 23),\r\n",
                "(23, 505, 6, 85, 3, 82, 423, 66),\r\n",
                "(12, 45, 56,85, 37, 62, 5, 23),\r\n",
                "(56, 52, 46, 35, 31, 22, 4, 236),\r\n",
                "(78, 23, 5346,845, 373, 622, 52, 223),\r\n",
                "(56, 52, 46, 35, 31, 22, 4, 236),\r\n",
                "(78, 23, 5346,845, 373, 622, 52, 223),\r\n",
                "(8, 23, 46,45, 33, 2, 2, 3);\r\n",
                "-- SELECT QUEREY FOR [Department].[Tools] TABLE\r\n",
                "SELECT * FROM [Department].[Tools];"
            ],
            "metadata": {
                "azdata_cell_guid": "49ef6d11-c025-4d9b-ab2b-83c61cc6748a"
            },
            "outputs": [],
            "execution_count": null
        },
        {
            "cell_type": "code",
            "source": [
                "--INSERT QUERIES FOR [Department].[Room] TABLE\r\n",
                "INSERT INTO [Department].[Room] (HostelID, ToolsID, FloorNo)\r\n",
                "VALUES \r\n",
                "(1, 1, 1),\r\n",
                "(1, 2, 1),\r\n",
                "(1, 3, 1),\r\n",
                "(1, 4, 1),\r\n",
                "(1, 5, 1),\r\n",
                "(1, 6, 2),\r\n",
                "(1, 7, 2),\r\n",
                "(1, 8, 2),\r\n",
                "(1, 9, 2),\r\n",
                "(1, 10, 2),\r\n",
                "(2, 11, 1),\r\n",
                "(2, 12, 1),\r\n",
                "(2, 13, 1),\r\n",
                "(2, 14, 1),\r\n",
                "(2, 15, 1),\r\n",
                "(2, 16, 2),\r\n",
                "(2, 17, 2),\r\n",
                "(2, 18, 2),\r\n",
                "(2, 19, 2),\r\n",
                "(2, 20, 2);\r\n",
                "-- SELECT ALL RECOREDS FROM [Department].[Room]\r\n",
                "SELECT * FROM [Department].[Room];"
            ],
            "metadata": {
                "azdata_cell_guid": "13c6f9f1-6158-44ef-9183-a14db2e1d38f"
            },
            "outputs": [],
            "execution_count": null
        },
        {
            "cell_type": "code",
            "source": [
                "--INSERT QUERIES FOR [Department].[HostelEmployee] TABLE\r\n",
                "INSERT INTO [Department].[HostelEmployee] (HostelID)\r\n",
                "VALUES \r\n",
                "(4, 1),\r\n",
                "(5, 2), \r\n",
                "(6, 2),\r\n",
                "(7, 2),\r\n",
                "(8, 2),\r\n",
                "(9, 2),\r\n",
                "(2, 2),\r\n",
                "(1, 1),\r\n",
                "(3, 1),\r\n",
                "(13, 1),\r\n",
                "(14, 1),\r\n",
                "(15, 1),\r\n",
                "(16, 1),\r\n",
                "(17, 1),\r\n",
                "(18, 1),\r\n",
                "(19, 2),\r\n",
                "(14, 2);\r\n",
                "-- SELECT ALL RECOEDS FROM [Department].[HostelEmployee] TBALE\r\n",
                "select * from [Department].[HostelEmployee]"
            ],
            "metadata": {
                "azdata_cell_guid": "8dfeda43-da45-4f4c-b210-0fb7cf595182"
            },
            "outputs": [],
            "execution_count": null
        },
        {
            "cell_type": "code",
            "source": [
                "--INSERT QUERIES FOR [Department].[Hostel] TABLE\r\n",
                "INSERT INTO [Department].[HostelAttendance] (HostelID, RegistrationID, AttendanceDate, AttendanceDate, TotalDays, PresentDays, AbsentDays, OffDays, Leave)\r\n",
                "VALUES\r\n",
                "(1, 1, '2019-01-13', 30, 12, 15, 3, 0),\r\n",
                "(1, 2, '2019-01-13', 30, 18, 9, 3, 0),\r\n",
                "(1, 3, '2019-01-13', 30, 17, 10, 3, 0),\r\n",
                "(1, 4, '2019-01-13', 30, 8, 15, 3, 4),\r\n",
                "(1, 5, '2019-01-13', 30, 12, 15, 3, 0),\r\n",
                "(1, 6, '2019-01-13', 30, 12, 15, 3, 0),\r\n",
                "(1, 7, '2019-01-13', 30, 12, 15, 3, 0),\r\n",
                "(1, 8, '2019-01-13', 30, 12, 13, 3, 2),\r\n",
                "(1, 9, '2019-01-13', 30, 12, 9, 3, 6),\r\n",
                "(1, 10, '2019-01-13', 30, 12, 8, 3, 7),\r\n",
                "(2, 12, '2019-01-13', 30, 12, 15, 3, 0),\r\n",
                "(2, 13, '2019-01-13', 30, 12, 3, 3, 12),\r\n",
                "(2, 14, '2019-01-13', 30, 12, 9, 3, 6),\r\n",
                "(2, 15, '2019-01-13', 30, 12, 15, 3, 0),\r\n",
                "(2, 16, '2019-01-13', 30, 12, 15, 3, 0),\r\n",
                "(2, 17, '2019-01-13', 30, 12, 15, 3, 0),\r\n",
                "(2, 18, '2019-01-13', 30, 12, 14, 3, 1),\r\n",
                "(2, 19, '2019-01-13', 30, 12, 13, 3, 2),\r\n",
                "(2, 20, '2019-01-13', 30, 12, 12, 3, 3);\r\n",
                "-- SELECT QUEREY FRO [Department].[HostelAttendance] TABLE\r\n",
                "SELECT * FROM [Department].[HostelAttendance];"
            ],
            "metadata": {
                "azdata_cell_guid": "2192cff7-1dfc-4ebe-9073-a9868a0a9598"
            },
            "outputs": [],
            "execution_count": null
        },
        {
            "cell_type": "code",
            "source": [
                "--INSERT QUERIES FOR [Department].[Clearance] TABLE\r\n",
                "INSERT INTO [Department].[Clearance] (RegistrationID, Checked)\r\n",
                "VALUES \r\n",
                "(1, 1),\r\n",
                "(2, 0),\r\n",
                "(3,1),\r\n",
                "(4, 1),\r\n",
                "(5, 0),\r\n",
                "(6, 1),\r\n",
                "(7, 1),\r\n",
                "(8, 1),\r\n",
                "(9, 1),\r\n",
                "(10, 1),\r\n",
                "(11, 1),\r\n",
                "(12, 1),\r\n",
                "(13, 0),\r\n",
                "(14, 0),\r\n",
                "(15, 1),\r\n",
                "(16, 1),\r\n",
                "(17, 1),\r\n",
                "(18, 1),\r\n",
                "(19, 0),\r\n",
                "(20, 0);\r\n",
                "--SELECT QUEREY FOR ALL REECORDS FOR [Department].[Clearance] TABLE\r\n",
                "SELECT * FROM [Department].[Clearance];"
            ],
            "metadata": {
                "azdata_cell_guid": "a320226f-d672-458c-a2d6-a9e9956281bf"
            },
            "outputs": [],
            "execution_count": null
        },
        {
            "cell_type": "code",
            "source": [
                "--INSERT QUERIES FOR [Department].[HostelRegistration] TABLE\r\n",
                "INSERT INTO [Department].[HostelRegistration] (HostelID, StudentID, RegistrationDate, RoomID)\r\n",
                "VALUES \r\n",
                "(1, 1, '2018-07-23', 1),\r\n",
                "(1, 2, '2018-07-23', 2),\r\n",
                "(1, 2, '2018-08-23', 2),\r\n",
                "(1, 3, '2018-0-23', 2),\r\n",
                "(1, 2, '2018-09-23', 3),\r\n",
                "(1, 4, '2018-07-23', 4),\r\n",
                "(1, 5, '2018-07-23', 5),\r\n",
                "(1, 6, '2018-07-23', 3),\r\n",
                "(1, 6, '2018-08-23', 2),\r\n",
                "(1, 7, '2018-07-23', 3),\r\n",
                "(1, 2, '2018-10-23', 4),\r\n",
                "(2, 1, '2018-03-23', 3),\r\n",
                "(2, 5, '2018-02-23', 13),\r\n",
                "(2, 6, '2018-02-23', 12),\r\n",
                "(2, 7, '2018-02-23', 14),\r\n",
                "(2, 8, '2018-02-23', 6),\r\n",
                "(2, 19, '2018-07-23', 6),\r\n",
                "(2, 20, '2018-07-23', 5),\r\n",
                "(2, 10, '2018-07-23', 5),\r\n",
                "(2, 12, '2018-07-23', 5),\r\n",
                "(2, 11, '2018-07-23', 20),\r\n",
                "(2, 19, '2018-11-23', 19);\r\n",
                "-- SELECT QUEREY FOR ALL RECORDS IN [Department].[HostelRegistration] TABLE\r\n",
                "SELECT * FROM [Department].[HostelRegistration];"
            ],
            "metadata": {
                "azdata_cell_guid": "94be0b11-cedf-40af-a98e-3003d0ab77a8"
            },
            "outputs": [],
            "execution_count": null
        }
    ]
}