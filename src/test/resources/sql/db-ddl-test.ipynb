{
    "metadata": {
        "kernelspec": {
            "name": "SQL",
            "display_name": "SQL",
            "language": "sql"
        },
        "language_info": {
            "name": "sql",
            "version": ""
        }
    },
    "nbformat_minor": 2,
    "nbformat": 4,
    "cells": [
        {
            "cell_type": "markdown",
            "source": [
                "# Database ddl queries test"
            ],
            "metadata": {
                "azdata_cell_guid": "a54aac03-9fac-47d3-b966-4e040056bcba"
            }
        },
        {
            "cell_type": "code",
            "source": [
                "INSERT INTO  "
            ],
            "metadata": {
                "azdata_cell_guid": "42b0ecaf-9779-4f1e-b769-39564c246cb7"
            },
            "outputs": [],
            "execution_count": null
        }
    ]
}